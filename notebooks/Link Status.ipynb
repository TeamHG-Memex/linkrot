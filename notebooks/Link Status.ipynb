{
 "cells": [
  {
   "cell_type": "code",
   "execution_count": null,
   "metadata": {
    "collapsed": true
   },
   "outputs": [],
   "source": [
    "%matplotlib inline\n",
    "import matplotlib.pyplot as plt\n",
    "plt.style.use('ggplot')"
   ]
  },
  {
   "cell_type": "code",
   "execution_count": null,
   "metadata": {
    "collapsed": false
   },
   "outputs": [],
   "source": [
    "import json\n",
    "import pandas as pd\n",
    "\n",
    "def read_jl(path):\n",
    "    with open(path, 'rt', encoding='utf8') as f:\n",
    "        for line in f:\n",
    "            if line.strip():\n",
    "                yield json.loads(line)\n",
    "                \n",
    "def read_df(path):\n",
    "    data = list(read_jl(path))\n",
    "    df = pd.DataFrame(data)\n",
    "    df = df.assign(\n",
    "        size=df.size.astype(int),\n",
    "        status_code=df.status_code.fillna(0).astype(int),\n",
    "        crawl=pd.to_datetime(df.crawl, unit='s'),\n",
    "        crawled_at=pd.to_datetime(df.crawled_at, unit='s'),    \n",
    "        err4xx = (df.status_code > 399) & (df.status_code < 500),\n",
    "        err5xx = (df.status_code > 499) & (df.status_code < 600),\n",
    "        \n",
    "        # adjust it for your task:\n",
    "        soft404 = df.crawled_url.str.lower().str.contains('notfound|404').fillna(False) & (df.status_code == 200),        \n",
    "    )\n",
    "    df = df.assign(        \n",
    "        ok=(df.status_code==200) & (~df.soft404),\n",
    "        time=df.crawled_at-df.crawl,\n",
    "        redirect=~df.crawled_url.isnull() & (df.url != df.crawled_url),\n",
    "    )\n",
    "    return df"
   ]
  },
  {
   "cell_type": "code",
   "execution_count": null,
   "metadata": {
    "collapsed": false
   },
   "outputs": [],
   "source": [
    "df_full = read_df('../status.jl')\n",
    "df = df_full[['crawl', 'url', 'ok', 'err4xx', 'err5xx', 'soft404', 'time', 'redirect']]"
   ]
  },
  {
   "cell_type": "markdown",
   "metadata": {},
   "source": [
    "Duplicate URLs (likely soft404):"
   ]
  },
  {
   "cell_type": "code",
   "execution_count": null,
   "metadata": {
    "collapsed": false
   },
   "outputs": [],
   "source": [
    "vc = df_full.crawled_url.value_counts()\n",
    "vc[vc > len(df_full.crawl.unique())]"
   ]
  },
  {
   "cell_type": "markdown",
   "metadata": {},
   "source": [
    "Crawl results:"
   ]
  },
  {
   "cell_type": "code",
   "execution_count": null,
   "metadata": {
    "collapsed": false
   },
   "outputs": [],
   "source": [
    "g = df.groupby(df.crawl)\n",
    "res = pd.DataFrame({\n",
    "    'ok': g.ok.mean()*100,\n",
    "    'err4xx': g.err4xx.sum().astype(int),\n",
    "    'err5xx': g.err5xx.sum().astype(int),\n",
    "    'soft404': g.soft404.sum().astype(int),\n",
    "    'count': g.ok.count(),\n",
    "    'time': pd.to_timedelta(g.time.max()),\n",
    "})\n",
    "res"
   ]
  },
  {
   "cell_type": "code",
   "execution_count": null,
   "metadata": {
    "collapsed": false
   },
   "outputs": [],
   "source": [
    "res.ok.plot(style='o-');"
   ]
  },
  {
   "cell_type": "code",
   "execution_count": null,
   "metadata": {
    "collapsed": false
   },
   "outputs": [],
   "source": [
    "res.err4xx.plot(legend=True, ylim=(0, None), style='o-')\n",
    "res.soft404.plot(legend=True, style='o-');\n",
    "res.err5xx.plot(legend=True, style='o-');"
   ]
  },
  {
   "cell_type": "code",
   "execution_count": null,
   "metadata": {
    "collapsed": false
   },
   "outputs": [],
   "source": [
    "res.time.dt.total_seconds().plot(legend=True);"
   ]
  },
  {
   "cell_type": "code",
   "execution_count": null,
   "metadata": {
    "collapsed": false
   },
   "outputs": [],
   "source": [
    "res['count'].plot(legend=True);"
   ]
  },
  {
   "cell_type": "code",
   "execution_count": null,
   "metadata": {
    "collapsed": true
   },
   "outputs": [],
   "source": []
  }
 ],
 "metadata": {
  "kernelspec": {
   "display_name": "Python 3",
   "language": "python",
   "name": "python3"
  },
  "language_info": {
   "codemirror_mode": {
    "name": "ipython",
    "version": 3
   },
   "file_extension": ".py",
   "mimetype": "text/x-python",
   "name": "python",
   "nbconvert_exporter": "python",
   "pygments_lexer": "ipython3",
   "version": "3.5.2"
  }
 },
 "nbformat": 4,
 "nbformat_minor": 1
}
